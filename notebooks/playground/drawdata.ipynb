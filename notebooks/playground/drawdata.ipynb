{
 "cells": [
  {
   "cell_type": "markdown",
   "id": "2ea50adc-bfad-42a4-b09d-bb3a79c5af2b",
   "metadata": {},
   "source": [
    "[**Drawdata**](https://github.com/koaning/drawdata) is an anywidget that lets you draw a dataset in a Jupyter notebook and get back the drawing as a dataframe. \n",
    "\n",
    "Since it's a proper widget, it can be combined with others to create powerful interactive visualizations. This is useful when teaching machine learning algorithms. \n",
    "\n",
    "This notebook is copied from Vincent's excellent [YouTube video](https://www.youtube.com/watch?v=STPv0jSAQEk), and demonstrates connecting the widget to trigger a new scikit-learn model to train."
   ]
  },
  {
   "cell_type": "code",
   "execution_count": null,
   "id": "eea9f1b8-4240-4a68-a412-2b4071b2c04a",
   "metadata": {},
   "outputs": [],
   "source": [
    "from drawdata import ScatterWidget"
   ]
  },
  {
   "cell_type": "code",
   "execution_count": null,
   "id": "b77030f4-c895-4a39-96ce-b79d6a8a6d69",
   "metadata": {},
   "outputs": [],
   "source": [
    "import matplotlib.pyplot as plt\n",
    "from IPython.core.display import HTML\n",
    "from sklearn.linear_model import LogisticRegression\n",
    "from sklearn.inspection import DecisionBoundaryDisplay\n",
    "from sklearn.tree import DecisionTreeClassifier\n",
    "\n",
    "import matplotlib.pylab as plt \n",
    "import numpy as np\n",
    "import ipywidgets"
   ]
  },
  {
   "cell_type": "code",
   "execution_count": null,
   "id": "b9d36c79-3d1d-4084-a1a6-43f3b95c06fe",
   "metadata": {},
   "outputs": [],
   "source": [
    "widget = ScatterWidget()\n",
    "output = ipywidgets.Output()\n",
    "\n",
    "\n",
    "@output.capture(clear_output=True)\n",
    "def on_change(change):\n",
    "    df = widget.data_as_pandas\n",
    "    if len(df) and (df['color'].nunique() > 1):\n",
    "        X = df[['x', 'y']].values\n",
    "        y = df['color']\n",
    "        display(HTML(\"<br><br><br>\"))\n",
    "        fig = plt.figure(figsize=(12, 12));\n",
    "        classifier = DecisionTreeClassifier().fit(X, y)\n",
    "        disp = DecisionBoundaryDisplay.from_estimator(\n",
    "            classifier, X, \n",
    "            response_method=\"predict_proba\" if len(np.unique(df['color'])) == 2 else \"predict\",\n",
    "            xlabel=\"x\", ylabel=\"y\",\n",
    "            alpha=0.5,\n",
    "        );\n",
    "        disp.ax_.scatter(X[:, 0], X[:, 1], c=y, edgecolor=\"k\");\n",
    "        plt.title(f\"{classifier.__class__.__name__}\");\n",
    "        plt.show();\n",
    "\n",
    "widget.observe(on_change, names=[\"data\"])\n",
    "on_change(None)\n",
    "ipywidgets.HBox([widget, output])"
   ]
  },
  {
   "cell_type": "code",
   "execution_count": null,
   "id": "97e1d5df-0451-4609-98ea-42f9366902fb",
   "metadata": {},
   "outputs": [],
   "source": []
  }
 ],
 "metadata": {
  "kernelspec": {
   "display_name": "Python 3 (ipykernel)",
   "language": "python",
   "name": "python3"
  },
  "language_info": {
   "codemirror_mode": {
    "name": "ipython",
    "version": 3
   },
   "file_extension": ".py",
   "mimetype": "text/x-python",
   "name": "python",
   "nbconvert_exporter": "python",
   "pygments_lexer": "ipython3",
   "version": "3.12.2"
  },
  "widgets": {
   "application/vnd.jupyter.widget-state+json": {
    "state": {},
    "version_major": 2,
    "version_minor": 0
   }
  }
 },
 "nbformat": 4,
 "nbformat_minor": 5
}
