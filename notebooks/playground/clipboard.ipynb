{
 "cells": [
  {
   "cell_type": "markdown",
   "metadata": {},
   "source": [
    "This notebook demonstrates a custom `Clipboard` widget using **anywidget** that reads data from the clipboard on copy events and writes data to the clipboard when the value traitlet changes.\n",
    "\n",
    "Copying text in the browser window will update the output cell with the copied text."
   ]
  },
  {
   "cell_type": "code",
   "execution_count": 1,
   "metadata": {},
   "outputs": [],
   "source": [
    "import anywidget\n",
    "import traitlets"
   ]
  },
  {
   "cell_type": "code",
   "execution_count": 2,
   "metadata": {},
   "outputs": [],
   "source": [
    "class Clipboard(anywidget.AnyWidget):\n",
    "    _esm = \"./clipboard.js\"\n",
    "    value = traitlets.Unicode().tag(sync=True)"
   ]
  },
  {
   "cell_type": "code",
   "execution_count": 3,
   "metadata": {},
   "outputs": [
    {
     "data": {
      "application/vnd.jupyter.widget-view+json": {
       "model_id": "325f010078f74c7b95ef20d6638597fb",
       "version_major": 2,
       "version_minor": 1
      },
      "text/plain": [
       "Clipboard()"
      ]
     },
     "execution_count": 3,
     "metadata": {},
     "output_type": "execute_result"
    }
   ],
   "source": [
    "Clipboard()"
   ]
  },
  {
   "cell_type": "code",
   "execution_count": null,
   "metadata": {},
   "outputs": [],
   "source": []
  }
 ],
 "metadata": {
  "kernelspec": {
   "display_name": "Python 3 (ipykernel)",
   "language": "python",
   "name": "python3"
  },
  "language_info": {
   "codemirror_mode": {
    "name": "ipython",
    "version": 3
   },
   "file_extension": ".py",
   "mimetype": "text/x-python",
   "name": "python",
   "nbconvert_exporter": "python",
   "pygments_lexer": "ipython3",
   "version": "3.12.2"
  },
  "widgets": {
   "application/vnd.jupyter.widget-state+json": {
    "state": {
     "325f010078f74c7b95ef20d6638597fb": {
      "model_module": "anywidget",
      "model_module_version": "~0.9.*",
      "model_name": "AnyModel",
      "state": {
       "_anywidget_id": "__main__.Clipboard",
       "_esm": "// read and write data from clipboard\nexport default {\n    initialize({ model }) {\n        document.addEventListener(\"copy\", () => {\n            model.set(\"value\", window.getSelection().toString());\n            model.save_changes();\n        });\n        model.on(\"change:value\", () => {\n            navigator.clipboard.writeText(model.get(\"value\"));\n        });\n    },\n    render({ model, el }) {\n        el.innerHTML = `<pre>${model.get(\"value\")}</pre>`;\n        model.on(\"change:value\", () => {\n            el.innerHTML = `<pre>${model.get(\"value\")}</pre>`;\n        });\n    },\n};\n",
       "_model_module": "anywidget",
       "_model_module_version": "~0.9.*",
       "_model_name": "AnyModel",
       "_view_module": "anywidget",
       "_view_module_version": "~0.9.*",
       "_view_name": "AnyView",
       "layout": "IPY_MODEL_633c1a6c3e234018af1c7f4772bb5a56",
       "value": "class Clipboard(anywidget.AnyWidget):\n    _esm = \"./clipboard.js\"\n    value = traitlets.Unicode().ta"
      }
     },
     "633c1a6c3e234018af1c7f4772bb5a56": {
      "model_module": "@jupyter-widgets/base",
      "model_module_version": "2.0.0",
      "model_name": "LayoutModel",
      "state": {}
     }
    },
    "version_major": 2,
    "version_minor": 0
   }
  }
 },
 "nbformat": 4,
 "nbformat_minor": 4
}
