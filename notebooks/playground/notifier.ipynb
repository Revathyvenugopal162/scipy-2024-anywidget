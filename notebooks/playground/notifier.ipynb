{
 "cells": [
  {
   "cell_type": "markdown",
   "metadata": {},
   "source": [
    "This notebook illustrates a custom Notifier widget using anywidget that triggers browser notifications with specified messages, body text, and optional images. Note: You need to enable notifications from the browser to use this feature."
   ]
  },
  {
   "cell_type": "code",
   "execution_count": null,
   "metadata": {},
   "outputs": [],
   "source": [
    "import anywidget\n",
    "import traitlets"
   ]
  },
  {
   "cell_type": "code",
   "execution_count": null,
   "metadata": {},
   "outputs": [],
   "source": [
    "class Notifier(anywidget.AnyWidget):\n",
    "    _esm = \"./notifier.js\"\n",
    "    _notification = traitlets.Dict(None, allow_none=True).tag(sync=True)\n",
    "\n",
    "    def notify(\n",
    "        self, message: str, *, body: str | None = None, image: str | None = None\n",
    "    ):\n",
    "        self._notification = {\"message\": message, \"body\": body, \"icon\": image}"
   ]
  },
  {
   "cell_type": "code",
   "execution_count": null,
   "metadata": {},
   "outputs": [],
   "source": [
    "notifier = Notifier()"
   ]
  },
  {
   "cell_type": "code",
   "execution_count": null,
   "metadata": {},
   "outputs": [],
   "source": [
    "notifier.notify(\n",
    "    message=\"Analysis complete\",\n",
    "    body=\"Here is a picture of a cat\",\n",
    "    image=\"https://cataas.com/cat\"\n",
    ")"
   ]
  },
  {
   "cell_type": "code",
   "execution_count": null,
   "metadata": {},
   "outputs": [],
   "source": []
  }
 ],
 "metadata": {
  "kernelspec": {
   "display_name": "Python 3 (ipykernel)",
   "language": "python",
   "name": "python3"
  },
  "language_info": {
   "codemirror_mode": {
    "name": "ipython",
    "version": 3
   },
   "file_extension": ".py",
   "mimetype": "text/x-python",
   "name": "python",
   "nbconvert_exporter": "python",
   "pygments_lexer": "ipython3",
   "version": "3.12.2"
  },
  "widgets": {
   "application/vnd.jupyter.widget-state+json": {
    "state": {},
    "version_major": 2,
    "version_minor": 0
   }
  }
 },
 "nbformat": 4,
 "nbformat_minor": 4
}
