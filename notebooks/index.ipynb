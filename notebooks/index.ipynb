{
 "cells": [
  {
   "cell_type": "markdown",
   "metadata": {},
   "source": [
    "# Outline\n",
    "\n",
    "These notebooks offer an in-depth guide to building custom widgets with **anywidget**, as presented at [SciPy 2024](https://cfp.scipy.org/2024/talk/PLWHZF/).\n",
    "\n",
    "## 1. Motivating anywidget: Live Demo\n",
    "\n",
    "We’ll start with a set of intro slides, followed by a live-coded demo motivating why **anywidget** exists and how it brings the ability to add web-based interactivity to your Python objects.\n",
    "\n",
    "[01-intro.ipynb](01-intro.ipynb)\n",
    "\n",
    "## 2. Basics: Core Widget Concepts\n",
    "\n",
    "Learn the core APIs and concepts for creating an **anywidget**, including rendering content, using traitlets, applying styles, and importing third-party JavaScript dependencies.\n",
    "\n",
    "[02-basics.ipynb](02-basics.ipynb)\n",
    "\n",
    "## 3. Building a Complete Widget: ipymario\n",
    "\n",
    "How to build Python APIs on top of existing front-end functionality, covering custom messages, sending binary data, and project organization.\n",
    "\n",
    "[03-ipymario.ipynb](03-ipymario.ipynb)\n",
    "\n",
    "## 4. Playground\n",
    "\n",
    "A set of example notebooks illustrating the use of existing ecosystem projects or exposing interesting browser-native functionality to Python.\n",
    "\n",
    "- [playground/clipboard.ipynb](playground/clipboard.ipynb) Reads and writes clipboard data.\n",
    "- [playground/notifier.ipynb](playground/notifier.ipynb) Triggers browser notifications when tasks complete in a notebook.\n",
    "- [playground/detector.ipynb](playground/detector.ipynb) Detects faces or barcodes using the camera.\n"
   ]
  },
  {
   "cell_type": "code",
   "execution_count": null,
   "metadata": {},
   "outputs": [],
   "source": []
  }
 ],
 "metadata": {
  "kernelspec": {
   "display_name": "Python 3 (ipykernel)",
   "language": "python",
   "name": "python3"
  },
  "language_info": {
   "codemirror_mode": {
    "name": "ipython",
    "version": 3
   },
   "file_extension": ".py",
   "mimetype": "text/x-python",
   "name": "python",
   "nbconvert_exporter": "python",
   "pygments_lexer": "ipython3",
   "version": "3.12.2"
  },
  "nteract": {
   "version": "0.23.1"
  },
  "widgets": {
   "application/vnd.jupyter.widget-state+json": {
    "state": {},
    "version_major": 2,
    "version_minor": 0
   }
  }
 },
 "nbformat": 4,
 "nbformat_minor": 4
}
