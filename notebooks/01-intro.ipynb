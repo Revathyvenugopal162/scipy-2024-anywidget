{
 "cells": [
  {
   "cell_type": "markdown",
   "id": "65d20c9c-45ed-4a98-abdc-be53fd028e90",
   "metadata": {},
   "source": [
    "# Closing the loop: Interactive selections inside notebooks\n",
    "\n",
    "We'll kick off this tutorial with a motivating use case for anywidget to spark your interest and demonstrate its capabilities. \n",
    "This section quickly introduces many concepts, which we'll dig into later in the tutorial, so don't worry if it feels fast-paced!\n",
    "\n",
    "In the live tutorial, this will be done mostly from scratch in a blank notebook.  For those reviewing later, I'll reproduce the examples and discussions here.\n"
   ]
  },
  {
   "cell_type": "markdown",
   "id": "0349ae92-9455-49f9-bc4a-3366993d5fc0",
   "metadata": {},
   "source": [
    "## 1. Imports and Data\n",
    "\n",
    "We'll start with importing some data and tools to play around with in notebooks. `vega_datasets` includes some example datasets that are nice to use. \n",
    "\n",
    "For this tutorial, we will use the cars dataset, which includes information about various car models, their performance metrics, and origins."
   ]
  },
  {
   "cell_type": "code",
   "execution_count": null,
   "id": "e0ec82e3-9557-47d5-88b6-88cc46d168b5",
   "metadata": {},
   "outputs": [],
   "source": [
    "from vega_datasets import data\n",
    "\n",
    "cars = data.cars()\n",
    "cars.head()"
   ]
  },
  {
   "cell_type": "markdown",
   "id": "ed4f136d-ee66-440d-9c1a-9b9a7d5bdbd4",
   "metadata": {},
   "source": [
    "The data is in [tidy layout](https://cran.r-project.org/web/packages/tidyr/vignettes/tidy-data.html), where each data attribute is a column and each observation is a row. "
   ]
  },
  {
   "cell_type": "markdown",
   "id": "3a673fb2-33db-4ef6-9440-a17a52b7c564",
   "metadata": {},
   "source": [
    "## 2. Creating a static visualization\n",
    "\n",
    "To begin, let's create a static visualization using `seaborn`.\n"
   ]
  },
  {
   "cell_type": "code",
   "execution_count": null,
   "id": "c48e7d31-1c6e-4129-b488-e0e2c5da780d",
   "metadata": {},
   "outputs": [],
   "source": [
    "import seaborn as sns\n",
    "\n",
    "sns.scatterplot(x=\"Horsepower\", y=\"Miles_per_Gallon\", hue=\"Origin\", data=cars);"
   ]
  },
  {
   "cell_type": "markdown",
   "id": "2055c2d5-ad2a-4299-b104-3df1b9886fa7",
   "metadata": {},
   "source": [
    "Here we can see the relationship between miles per gallon (mpg) and horsepower: cars with higher fuel \n",
    "efficiency (higher mpg) generally have lower horsepower, indicating that more efficient cars tend \n",
    "to have less powerful engines.\n",
    "\n",
    "We refer to this plot as a \"static\" visualization because the output is an image (i.e., `.png` or `.jpeg`). \n",
    "Although we are looking at the visualization in the browser, the actual pixels have been rasterized by the **_kernel_**,\n",
    "the Jupyter program responsible for executing code written in notebooks. The **_front end_** (i.e., notebook web\n",
    "application) simply embeds this data using\n",
    "an [`<img>`](https://developer.mozilla.org/en-US/docs/Web/HTML/Element/img) element.\n",
    "You can see this output `<img>` by opening [Developer Tools](https://developer.chrome.com/docs/devtools)\n",
    "(`Option + ⌘ + I` on Mac, or `F12` on Windows) and hovering over the element.\n",
    "\n",
    "Notice that the only way to interact with this kind of plot or adjust settings is to re-execute\n",
    "_kernel_-side code. That means writing new text or executing cells.\n",
    "\n",
    "For example, if we wanted to see a differnt property mapped to the hue, we'd need to write another cell:"
   ]
  },
  {
   "cell_type": "code",
   "execution_count": null,
   "id": "4e0a9671-89be-4128-9c75-681efc9ca117",
   "metadata": {},
   "outputs": [],
   "source": [
    "sns.scatterplot(x=\"Horsepower\", y=\"Miles_per_Gallon\", hue=\"Cylinders\", data=cars);"
   ]
  },
  {
   "cell_type": "markdown",
   "id": "221a5536-cca9-4173-bf34-0d727a26e2cb",
   "metadata": {},
   "source": [
    "What if we want to have a closer look at a specific point? Do any points jump out as interesting?\n",
    "\n",
    "To explore this using static plots, you would need to:\n",
    "\n",
    "- Identify the point visually on the plot.\n",
    "- Write code to filter the dataset based on the criteria that describe the point.\n",
    "- Re-run the cell to see the filtered dataset.\n",
    "\n",
    "For example, the interesting point between 30-35 miles per gallon and 125-150 horsepower. There are no other points around it."
   ]
  },
  {
   "cell_type": "code",
   "execution_count": null,
   "id": "64c3cebb-c867-4a0e-a184-57f876220c92",
   "metadata": {},
   "outputs": [],
   "source": [
    "# Filter the dataset to find the interesting point\n",
    "interesting_point = cars[(cars['Miles_per_Gallon'] > 30) & (cars['Miles_per_Gallon'] < 35) &\n",
    "                       (cars['Horsepower'] > 125) & (cars['Horsepower'] < 150)]\n",
    "interesting_point"
   ]
  },
  {
   "cell_type": "markdown",
   "id": "77630437-96cf-4178-bf50-422190b9ad99",
   "metadata": {},
   "source": [
    "What if you want to look at another point or group of points? This type of exploration demands **_interactivity_** beyond what notebooks provide with just cell execution. Static plotting libraries are great and produce high-quality figures, but notebooks are also meant for exploration!\n",
    "\n",
    "It's worth taking a moment to think about this situation: you see an odd data point and want to know \"what is that?\" Your data is right _here_, in-memory, but you can't easily explore it.\n",
    "\n",
    "The Python ecosystem is rich for analysis, and the web is the most accessible platform for building custom user interfaces (UIs). \n",
    "Jupyter and other Jupyter-compatible platforms (e.g., Google Colab, VS Code) integrate these strengths, offering a powerful\n",
    "environment for both analysis and interactivity.\n",
    "\n",
    "Let's see how a little bit of JavaScript changes things..."
   ]
  },
  {
   "cell_type": "markdown",
   "id": "dc1b8f8b-7984-4592-a007-57e9c563725a",
   "metadata": {},
   "source": [
    "## 3. A bit of interactivity with Altair\n",
    "\n",
    "Next, we'll explore how to add some interactivity using [Altair](https://altair-viz.github.io/), a declarative statistical visualization library for Python. Altair allows us to create interactive plots that can help with data exploration directly within the notebook.\n",
    "\n",
    "We'll start by importing Altair and creating an interactive scatter plot. "
   ]
  },
  {
   "cell_type": "code",
   "execution_count": null,
   "id": "d66f9a0c-b765-4b15-af65-0cfced246b0f",
   "metadata": {},
   "outputs": [],
   "source": [
    "import altair as alt\n",
    "\n",
    "points = alt.Chart(cars).mark_point().encode(\n",
    "    x=\"Horsepower\",\n",
    "    y=\"Miles_per_Gallon\",\n",
    "    color=\"Origin\",\n",
    ")\n",
    "\n",
    "points"
   ]
  },
  {
   "cell_type": "markdown",
   "id": "83a661a2-3163-48f6-9e87-495f8401e7bf",
   "metadata": {},
   "source": [
    "This plot is currently very much like the other, but Altair let's us define more interactive elemnts to our visualiztaion.\n",
    "\n",
    "For example, let's add a tooltip:"
   ]
  },
  {
   "cell_type": "code",
   "execution_count": null,
   "id": "cb317fb5-a730-4c4f-8687-9742e47c8f33",
   "metadata": {},
   "outputs": [],
   "source": [
    "points = alt.Chart(cars).mark_point().encode(\n",
    "    x=\"Horsepower\",\n",
    "    y=\"Miles_per_Gallon\",\n",
    "    color=\"Origin\",\n",
    "    tooltip=[\"Name\"],\n",
    ")\n",
    "\n",
    "points"
   ]
  },
  {
   "cell_type": "markdown",
   "id": "8436ec6f-7f37-4439-ae59-c872ba8b9454",
   "metadata": {},
   "source": [
    "We can now more readily identify points of interset _interactively_, nice! \n",
    "\n",
    "We can even go further to create linked views with brush selections in a view lines of code:"
   ]
  },
  {
   "cell_type": "code",
   "execution_count": null,
   "id": "a9e33a61-e56d-497a-afdc-614f15d6a883",
   "metadata": {},
   "outputs": [],
   "source": [
    "brush = alt.selection_interval()\n",
    "\n",
    "points = alt.Chart(cars).mark_point().encode(\n",
    "    x=\"Horsepower\",\n",
    "    y=\"Miles_per_Gallon\",\n",
    "    color=alt.condition(brush, \"Origin\", alt.value(\"lightgray\")),\n",
    "    tooltip=[\"Name\"]\n",
    ").add_params(\n",
    "    brush\n",
    ")\n",
    "\n",
    "bars = points.mark_bar().encode(\n",
    "    x=\"count()\",\n",
    "    y=\"Origin\",\n",
    "    color=\"Origin\"\n",
    ").transform_filter(\n",
    "    brush\n",
    ")\n",
    "\n",
    "chart = points & bars\n",
    "chart"
   ]
  },
  {
   "cell_type": "markdown",
   "id": "3213d3e3-141c-43b5-ad32-b71e4dfe6733",
   "metadata": {},
   "source": [
    "This enables us to select a range of points in the scatter plot and see the corresponding data in a linked bar chart.\n",
    "\n",
    "So how is Altair different from the static plots before?\n",
    "\n",
    "Rather than rendering an `<img>` in the *_kernel_*, visualizations in Altair are described as data in text \n",
    "form (i.e., the [Vega-Lite](https://vega.github.io/vega-lite/) JSON specification). Altair provides an API for producing \n",
    "this specification in Python. The Jupyter notebook embeds this _JSON data_ (not an image) in the front-end, which a JavaScript-based\n",
    "renderer interprets and renders embeds on the page. Again, you can see this content by opening the Developer Tools and hovering the output element.\n",
    "\n",
    "We can see the JSON data for our `chart` that Altair sends to the _front end_ by calling `alt.Chart.to_dict` or `alt.Chart.to_json`:"
   ]
  },
  {
   "cell_type": "code",
   "execution_count": null,
   "id": "e3fd9a7b-5539-4556-a365-7604fce579e8",
   "metadata": {},
   "outputs": [],
   "source": [
    "# chart.to_dict() # big Python dictionary\n",
    "print(chart.to_json()[:500]) # trimmed down for the notebook output"
   ]
  },
  {
   "cell_type": "markdown",
   "id": "ab44350d-b0a8-4cf6-97be-a0d30b327a2c",
   "metadata": {},
   "source": [
    "JavaScript-based rendering is fundamentally different from static images because the visualizations \n",
    "are dynamic and can be interacted with directly in the web browser.\n",
    "\n",
    "With this kind of interactivity, you might expect to access the selection as a DataFrame back in Python:"
   ]
  },
  {
   "cell_type": "code",
   "execution_count": null,
   "id": "e67c8a76-b375-40ec-9546-d78a0afe858e",
   "metadata": {},
   "outputs": [],
   "source": [
    "chart.selection # <- oh no, error!!!"
   ]
  },
  {
   "cell_type": "markdown",
   "id": "b23038f9-3f84-41d6-afd4-273f3c3d253b",
   "metadata": {},
   "source": [
    "However, this integration is surface-level. Altair prepares content to embed in the browser using Python,\n",
    "but once embedded, there is **no more communication**.\n",
    "\n",
    "You cannot update the visualization from Python (Python -> JS) or send data back to the notebook from the visualization (JS -> Python).\n",
    "The highlighted points are \"trapped\" in JavaScript (oh no!)."
   ]
  },
  {
   "cell_type": "markdown",
   "id": "2c3a83e2-20d4-4747-88aa-92e7cb9b48d8",
   "metadata": {},
   "source": [
    "## 4. Closing the loop with anywidget \n",
    "\n",
    "This section of the tutorial demonstrates using **anywidget** to address this exact use case \n",
    "(and [long-standing feature request](https://github.com/altair-viz/altair/issues/1153)) in  Altair: retrieving data from a JavaScript selection back into Python.\n",
    "\n",
    "Previously, we couldn't inspect selected points because the selection is processed in JavaScript, and the HTML-only display lacks a mechanism to communicate back to Python.\n",
    "\n",
    "Remember, Altair produces JSON following the Vega-Lite visualization grammar. \n",
    "With **anywidget**, we can create a custom widget to render this JSON data independently:"
   ]
  },
  {
   "cell_type": "code",
   "execution_count": null,
   "id": "ea48898c-5745-4827-af4f-0620a5cc4c1c",
   "metadata": {},
   "outputs": [],
   "source": [
    "import anywidget\n",
    "import traitlets\n",
    "\n",
    "class ChartWidget(anywidget.AnyWidget):\n",
    "    _esm = \"\"\"\n",
    "    import embed from \"https://cdn.jsdelivr.net/npm/vega-embed@6/+esm\";\n",
    "    async function render({ model, el }) {\n",
    "      // Get the \"spec\" trailet from Python\n",
    "      let spec = model.get(\"spec\"); \n",
    "      // Give notebook output element and spec to the Vega-Lite renderer\n",
    "      let api = await embed(el, spec);\n",
    "    }\n",
    "    export default { render };\n",
    "    \"\"\"\n",
    "    spec = traitlets.Dict().tag(sync=True)\n",
    "\n",
    "widget = ChartWidget(spec=chart.to_dict())\n",
    "widget"
   ]
  },
  {
   "cell_type": "markdown",
   "id": "dcaccb3b-7553-4788-baa0-c6d6179ad14e",
   "metadata": {},
   "source": [
    "Whats going on here? Our custom `ChartWidget` is defined by subclassing `anywidget.AnyWidget`:\n",
    "\n",
    "- `_esm` defines the [ECMAScript module](https://developer.mozilla.org/en-US/docs/Web/JavaScript/Guide/Modules) for the widget. The module\n",
    "    imports necessary rendering dependencies (vega-embed) and exports `render`: a function to displays the Vega-Lite chart.\n",
    "\n",
    "- `spec` is a `traitlet`, whichit holds the Vega-Lite JSON specification for the chart. You can think of a traitlet as a Python variables that\n",
    "   can also be used in JavaScript.\n",
    "\n",
    "Together, this is essentially the same thing as what we had before in Altair, except now we are rendering the visualization ourselves with a custom widget.\n",
    "\n",
    "So how do we get the selection? We can use another `traitlet`, let's call it `selection`:"
   ]
  },
  {
   "cell_type": "code",
   "execution_count": null,
   "id": "08be0753-6173-4a7a-8824-95f7440a3c13",
   "metadata": {},
   "outputs": [],
   "source": [
    "import anywidget\n",
    "import traitlets\n",
    "\n",
    "class ChartWidget(anywidget.AnyWidget):\n",
    "    _esm = \"\"\"\n",
    "    import embed from \"https://cdn.jsdelivr.net/npm/vega-embed@6/+esm\";\n",
    "    async function render({ model, el }) {\n",
    "      let spec = model.get(\"spec\");\n",
    "      let api = await embed(el, spec);\n",
    "      api.view.addSignalListener(spec.params[0].name, (_, update) => {\n",
    "        model.set(\"selection\", update);\n",
    "        model.save_changes();\n",
    "      });\n",
    "    }\n",
    "    export default { render };\n",
    "    \"\"\"\n",
    "    spec = traitlets.Dict().tag(sync=True)\n",
    "    selection = traitlets.Dict().tag(sync=True)\n",
    "\n",
    "widget = ChartWidget(spec=chart.to_dict())\n",
    "\n",
    "# Prints updates log console (JupyterLab: View > Show Log Console)\n",
    "widget.observe(lambda selection: print(selection.new), names=[\"selection\"])\n",
    "\n",
    "widget"
   ]
  },
  {
   "cell_type": "markdown",
   "id": "d832c5b4-04f2-4901-acdd-5f46e52e78e9",
   "metadata": {},
   "source": [
    "The original cross-filtering behavior stays the same, but now we have access to \n",
    "the JavaScript selection in Python via `widget.selection`.\n",
    "\n",
    "The Python callback prints the synchronized selection in the JupyterLab log \n",
    "console whenever it changes. Open the JupyterLab logs (View > Show Log Console) to see the updates.\n",
    "\n",
    "Alternatively, make a new selection and re-run the following cell a few times. Notice how it changes!"
   ]
  },
  {
   "cell_type": "code",
   "execution_count": null,
   "id": "5e72a93c-2ba9-4648-9b19-782b6cf9eb19",
   "metadata": {},
   "outputs": [],
   "source": [
    "widget.selection # make a selection and run me!"
   ]
  },
  {
   "cell_type": "markdown",
   "id": "df143b6f-2d9a-4bab-823b-391cc71228c8",
   "metadata": {},
   "source": [
    "## 5. Composing widgets together\n",
    "\n",
    "Finally, we can present this data more effectively using a second `ipywidget` that \n",
    "displays our selection as `pd.DataFrame`.  \n",
    "\n"
   ]
  },
  {
   "cell_type": "code",
   "execution_count": null,
   "id": "21abddc7-9694-4cd7-9098-04bf79418204",
   "metadata": {},
   "outputs": [],
   "source": [
    "import ipywidgets\n",
    "\n",
    "output = ipywidgets.Output()\n",
    "\n",
    "@output.capture(clear_output=True, wait=True)\n",
    "def on_change(change):\n",
    "    df = cars\n",
    "    selection = change.new\n",
    "    for field, (lower, upper) in selection.items():\n",
    "        df = df[(df[field] > lower) & (df[field] < upper)]\n",
    "    display(df)\n",
    "\n",
    "widget.observe(on_change, names=\"selection\")\n",
    "ipywidgets.VBox([widget, output])"
   ]
  },
  {
   "cell_type": "markdown",
   "id": "00d2166a-dc99-465f-bb2c-32a59da10f7f",
   "metadata": {},
   "source": [
    "The on_change callback is invoked whenever `widget.selection` changes. It filters the original data based on the `selection` bounds and displays the subset as a table within the output.\n",
    "\n",
    "Don't worry about understanding all the details here. We aim to show how widgets can be created and used with other widgets from Python. In the next part of the tutorial, we'll dive into each concept introduced in detail, and you'll get hands-on coding experience.\n",
    "\n",
    "**High-level takeaway**: With just a few lines of code, we enhanced Altair with new functionality using anywidget, and built a custom table viewer.\n",
    "\n",
    "> Note: This section of the tutorial was adapted from a Jupyter\n",
    "> [blog post](https://blog.jupyter.org/anywidget-jupyter-widgets-made-easy-164eb2eae102)\n",
    "> introducing anywidget. This post actually led to Altair implementing their\n",
    "> own widget with `anywidget`, shipping the long-standing feature request! 🎉\n",
    "> You can try out the altair widget with [`alt.JupyterChart`](https://altair-viz.github.io/user_guide/jupyter_chart.html)."
   ]
  },
  {
   "cell_type": "code",
   "execution_count": null,
   "id": "dfbd7461-a6b8-4fcf-9ed8-b72dd3166330",
   "metadata": {},
   "outputs": [],
   "source": []
  }
 ],
 "metadata": {
  "kernelspec": {
   "display_name": "Python 3 (ipykernel)",
   "language": "python",
   "name": "python3"
  },
  "language_info": {
   "codemirror_mode": {
    "name": "ipython",
    "version": 3
   },
   "file_extension": ".py",
   "mimetype": "text/x-python",
   "name": "python",
   "nbconvert_exporter": "python",
   "pygments_lexer": "ipython3",
   "version": "3.11.7"
  },
  "widgets": {
   "application/vnd.jupyter.widget-state+json": {
    "state": {},
    "version_major": 2,
    "version_minor": 0
   }
  }
 },
 "nbformat": 4,
 "nbformat_minor": 5
}
